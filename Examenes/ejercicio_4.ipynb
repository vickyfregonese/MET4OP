{
 "cells": [
  {
   "cell_type": "markdown",
   "source": [
    "3. Declarar una función que aplique la fórmula D´Hondt para cualquier caso. Pueden \r\n",
    "ayudarse con el ejemplo práctico anterior. (2 puntos)"
   ],
   "metadata": {}
  },
  {
   "cell_type": "code",
   "execution_count": 8,
   "source": [
    "votos = {}\r\n",
    "votos [\"Juntos por el Cambio \"] = 1060404\r\n",
    "votos [\"Frente de Todos \"] = 641054\r\n",
    "votos [\"Consenso Federal \"] = 114968\r\n",
    "votos [\"Frente de Izquierda \"] = 122560\r\n",
    "votos [\"Unite \"] = 36420\r\n",
    "votos [\"Autodeterminación y Libertad \"] = 24685\r\n",
    "votos [\"blancos \"] = 56174\r\n",
    "votos [\"nulos \"] = 16537 \r\n",
    "\r\n",
    "def Dhondt (votos, n_bancas):\r\n",
    "    votos_div = {}\r\n",
    "    lista = []\r\n",
    "    bancas = {}\r\n",
    "    for j in range(1, n_bancas+1):          #donde \"j\" es cada una de las bancas y \"range(1, n_bancas+1)\" son todas las bancas en juego dependiendo de la eleccion\r\n",
    "        for i in votos.keys():      #donde \"i\" es cada clave dentro del dict de votos \r\n",
    "            newvalue = votos[i]/j    #division de los votos de cada pp por la cant de bancas en juego\r\n",
    "            votos_div[i+str(j)] = newvalue    #nuevo dict con los resultados \r\n",
    "            \r\n",
    "    for i in range(1, n_bancas+1):\r\n",
    "        maximo = max(votos_div, key=votos_div.get)     #obtengo la lista con la maxima cantidad de votos\r\n",
    "        lista.append(maximo[:-1])\r\n",
    "        del votos_div[maximo]\r\n",
    "\r\n",
    "    for i in votos.keys():\r\n",
    "        bancas[i] = lista.count(i)                   #obtengo el conteo de la cantidad de escaños asignados a cada pp\r\n",
    "\r\n",
    "    return bancas\r\n",
    "\r\n",
    "Dhondt(votos, 12)    #en este caso se obtiene la formula D'Hondt para todos los partidos que compiten en esta eleccion"
   ],
   "outputs": [
    {
     "output_type": "execute_result",
     "data": {
      "text/plain": [
       "{'Juntos por el Cambio ': 8,\n",
       " 'Frente de Todos ': 4,\n",
       " 'Consenso Federal ': 0,\n",
       " 'Frente de Izquierda ': 0,\n",
       " 'Unite ': 0,\n",
       " 'Autodeterminación y Libertad ': 0,\n",
       " 'blancos ': 0,\n",
       " 'nulos ': 0}"
      ]
     },
     "metadata": {},
     "execution_count": 8
    }
   ],
   "metadata": {}
  },
  {
   "cell_type": "markdown",
   "source": [
    "Si se quisiera obtener la formula D'Hondt no para todos los partidos que compiten en la eleccion sino para saber la cantidad de escaños que le son asignados a X partido, la funcion deberia ser la siguiente:"
   ],
   "metadata": {}
  },
  {
   "cell_type": "code",
   "execution_count": 1,
   "source": [
    "votos = {}\r\n",
    "votos [\"Juntos por el Cambio \"] = 1060404\r\n",
    "votos [\"Frente de Todos \"] = 641054\r\n",
    "votos [\"Consenso Federal \"] = 114968\r\n",
    "votos [\"Frente de Izquierda \"] = 122560\r\n",
    "votos [\"Unite \"] = 36420\r\n",
    "votos [\"Autodeterminación y Libertad \"] = 24685\r\n",
    "votos [\"blancos \"] = 56174\r\n",
    "votos [\"nulos \"] = 16537 \r\n",
    "\r\n",
    "\r\n",
    "\r\n",
    "def Dhondt (partido, votos, n_bancas):\r\n",
    "    votos_div = {}\r\n",
    "    lista = []\r\n",
    "    bancas = {}\r\n",
    "    for j in range(1, n_bancas+1):          \r\n",
    "        for i in votos.keys():      \r\n",
    "            newvalue = votos[i]/j    \r\n",
    "            votos_div[i+str(j)] = newvalue    \r\n",
    "            \r\n",
    "    for i in range(1, n_bancas+1):\r\n",
    "        maximo = max(votos_div, key=votos_div.get)     \r\n",
    "        lista.append(maximo[:-1])\r\n",
    "        del votos_div[maximo]\r\n",
    "\r\n",
    "    for i in votos.keys():\r\n",
    "        bancas[i] = lista.count(i)                   \r\n",
    "\r\n",
    "    return bancas[partido]\r\n",
    "\r\n",
    "Dhondt('Juntos por el Cambio ', votos, 12)    #en este caso se obtiene la formula D'Hondt unicamente para el pp al que pedi y asi obtener la cantidad de escaños que le corresponden"
   ],
   "outputs": [
    {
     "output_type": "execute_result",
     "data": {
      "text/plain": [
       "8"
      ]
     },
     "metadata": {},
     "execution_count": 1
    }
   ],
   "metadata": {}
  }
 ],
 "metadata": {
  "orig_nbformat": 4,
  "language_info": {
   "name": "python",
   "version": "3.8.8",
   "mimetype": "text/x-python",
   "codemirror_mode": {
    "name": "ipython",
    "version": 3
   },
   "pygments_lexer": "ipython3",
   "nbconvert_exporter": "python",
   "file_extension": ".py"
  },
  "kernelspec": {
   "name": "python3",
   "display_name": "Python 3.8.8 64-bit ('base': conda)"
  },
  "interpreter": {
   "hash": "5d8cf5cda38d1e9e0067aab16a8a7260a1a6ade48c3b9588a1cd186fa0d7c928"
  }
 },
 "nbformat": 4,
 "nbformat_minor": 2
}