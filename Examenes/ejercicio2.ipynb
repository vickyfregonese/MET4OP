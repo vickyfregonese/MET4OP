{
 "cells": [
  {
   "cell_type": "code",
   "execution_count": 3,
   "source": [
    "#Ejercicio para promocionar: Declarar una función que, dado un número x, sea capaz de sumar todos los números, menores de x que sean  múltiplos de 2 excepto aquellos que sean también múltiplos de 4. (1 punto) Por ejemplo: suma (10) = 2 + 6 + 10 = 18 \r\n",
    "def funcion2 (x):\r\n",
    "    suma = 0                   \r\n",
    "    for i in range (0, x+1):\r\n",
    "        if i%2 == 0 and i%4 != 0:    \r\n",
    "            suma = suma + i          \r\n",
    "    return suma\r\n",
    "        \r\n",
    "funcion2 (100)"
   ],
   "outputs": [
    {
     "output_type": "execute_result",
     "data": {
      "text/plain": [
       "1250"
      ]
     },
     "metadata": {},
     "execution_count": 3
    }
   ],
   "metadata": {}
  },
  {
   "cell_type": "code",
   "execution_count": 6,
   "source": [
    "import numpy\r\n",
    "def primo (n): \r\n",
    "    if n==1: \r\n",
    "        return False\r\n",
    "    for i in range (2,n):\r\n",
    "        if int (n/i)==(n/i): \r\n",
    "            return False\r\n",
    "    return True\r\n",
    "\r\n",
    "def primo_x (x): \r\n",
    "    pencontrados=0\r\n",
    "    i= 1 \r\n",
    "    while pencontrados <x: \r\n",
    "        if primo (i):     \r\n",
    "            pencontrados= pencontrados +1 \r\n",
    "        i= i+1      \r\n",
    "    return i-1\r\n",
    "primo_x (1000)"
   ],
   "outputs": [
    {
     "output_type": "execute_result",
     "data": {
      "text/plain": [
       "7919"
      ]
     },
     "metadata": {},
     "execution_count": 6
    }
   ],
   "metadata": {}
  },
  {
   "cell_type": "code",
   "execution_count": null,
   "source": [],
   "outputs": [],
   "metadata": {}
  }
 ],
 "metadata": {
  "orig_nbformat": 4,
  "language_info": {
   "name": "python",
   "version": "3.8.11",
   "mimetype": "text/x-python",
   "codemirror_mode": {
    "name": "ipython",
    "version": 3
   },
   "pygments_lexer": "ipython3",
   "nbconvert_exporter": "python",
   "file_extension": ".py"
  },
  "kernelspec": {
   "name": "python3",
   "display_name": "Python 3.8.11 64-bit ('Prueba': conda)"
  },
  "interpreter": {
   "hash": "f9cdabf1c00ea275d2f1f13cd64178184616e8297363ef177075a22a00813341"
  }
 },
 "nbformat": 4,
 "nbformat_minor": 2
}