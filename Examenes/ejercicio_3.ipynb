{
 "cells": [
  {
   "cell_type": "markdown",
   "source": [
    "2. Sabemos que el día 1970-01-01 fue jueves. Declarar una función que pueda indicar\r\n",
    "cuántos jueves han sido el primer día de cada mes desde entonces. La fecha de corte \r\n",
    "debe de poder ser cualquiera. (1 punto)\r\n"
   ],
   "metadata": {}
  },
  {
   "cell_type": "code",
   "execution_count": 85,
   "source": [
    "from datetime import datetime             #importo la libreria datetime para manipular calendarios\r\n",
    "datetime(1970, 1, 1).weekday()               \r\n",
    "\r\n",
    "fecha = (1997, 11, 20)                    #es la fecha de corte que asigne\r\n",
    "\r\n",
    "def Jueves (fecha):    \r\n",
    "    cantidad_jueves = 0                   #inicio el contador\r\n",
    "    for año in range(1970, fecha[0]+1):   #donde \"año\" son c/u de los años desde 1970 hasta 1997\r\n",
    "        for mes in range(1, 13):          #donde \"mes\" son c/u de los 12 meses del año\r\n",
    "            dia_1_mes = datetime(año, mes, 1).weekday()   #aca le pido que me busque el 1er dia de cada mes \r\n",
    "            if año == fecha[0] and mes == fecha[1]:\r\n",
    "                break                        #el programa corre hasta el dia que le asigne en la variable \"fecha\"\r\n",
    "            if dia_1_mes == 3:               #si es 1er dia de cada mes es igual a jueves (jueves es el dia 3)\r\n",
    "                cantidad_jueves = cantidad_jueves + 1 #va sumando de a 1 la cant. de jueves en donde inicie el mes en el contador\r\n",
    "                \r\n",
    "    return cantidad_jueves\r\n",
    "\r\n",
    "Jueves (fecha)"
   ],
   "outputs": [
    {
     "output_type": "execute_result",
     "data": {
      "text/plain": [
       "48"
      ]
     },
     "metadata": {},
     "execution_count": 85
    }
   ],
   "metadata": {}
  }
 ],
 "metadata": {
  "orig_nbformat": 4,
  "language_info": {
   "name": "python",
   "version": "3.8.8",
   "mimetype": "text/x-python",
   "codemirror_mode": {
    "name": "ipython",
    "version": 3
   },
   "pygments_lexer": "ipython3",
   "nbconvert_exporter": "python",
   "file_extension": ".py"
  },
  "kernelspec": {
   "name": "python3",
   "display_name": "Python 3.8.8 64-bit ('base': conda)"
  },
  "interpreter": {
   "hash": "5d8cf5cda38d1e9e0067aab16a8a7260a1a6ade48c3b9588a1cd186fa0d7c928"
  }
 },
 "nbformat": 4,
 "nbformat_minor": 2
}