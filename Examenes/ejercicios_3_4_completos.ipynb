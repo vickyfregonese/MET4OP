{
 "cells": [
  {
   "cell_type": "markdown",
   "source": [
    "2. Sabemos que el día 1970-01-01 fue jueves. Declarar una función que pueda indicar\r\n",
    "cuántos jueves han sido el primer día de cada mes desde entonces. La fecha de corte \r\n",
    "debe de poder ser cualquiera. (1 punto)\r\n"
   ],
   "metadata": {}
  },
  {
   "cell_type": "code",
   "execution_count": 85,
   "source": [
    "from datetime import datetime             #importo la libreria datetime para manipular calendarios\r\n",
    "datetime(1970, 1, 1).weekday()               \r\n",
    "\r\n",
    "fecha = (1997, 11, 20)                    #es la fecha de corte que asigne\r\n",
    "\r\n",
    "def Jueves (fecha):    \r\n",
    "    cantidad_jueves = 0                   #inicio el contador\r\n",
    "    for año in range(1970, fecha[0]+1):   #donde \"año\" son c/u de los años desde 1970 hasta 1997\r\n",
    "        for mes in range(1, 13):          #donde \"mes\" son c/u de los 12 meses del año\r\n",
    "            dia_1_mes = datetime(año, mes, 1).weekday()   #aca le pido que me busque el 1er dia de cada mes \r\n",
    "            if año == fecha[0] and mes == fecha[1]:\r\n",
    "                break                        #el programa corre hasta el dia que le asigne en la variable \"fecha\"\r\n",
    "            if dia_1_mes == 3:               #si es 1er dia de cada mes es igual a jueves (jueves es el dia 3)\r\n",
    "                cantidad_jueves = cantidad_jueves + 1 #va sumando de a 1 la cant. de jueves en donde inicie el mes en el contador\r\n",
    "                \r\n",
    "    return cantidad_jueves\r\n",
    "\r\n",
    "Jueves (fecha)"
   ],
   "outputs": [
    {
     "output_type": "execute_result",
     "data": {
      "text/plain": [
       "48"
      ]
     },
     "metadata": {},
     "execution_count": 85
    }
   ],
   "metadata": {}
  },
  {
   "cell_type": "markdown",
   "source": [
    "3. Declarar una función que aplique la fórmula D´Hondt para cualquier caso. Pueden \r\n",
    "ayudarse con el ejemplo práctico anterior. (2 puntos)"
   ],
   "metadata": {}
  },
  {
   "cell_type": "code",
   "execution_count": 8,
   "source": [
    "votos = {}\r\n",
    "votos [\"Juntos por el Cambio \"] = 1060404\r\n",
    "votos [\"Frente de Todos \"] = 641054\r\n",
    "votos [\"Consenso Federal \"] = 114968\r\n",
    "votos [\"Frente de Izquierda \"] = 122560\r\n",
    "votos [\"Unite \"] = 36420\r\n",
    "votos [\"Autodeterminación y Libertad \"] = 24685\r\n",
    "votos [\"blancos \"] = 56174\r\n",
    "votos [\"nulos \"] = 16537 \r\n",
    "\r\n",
    "def Dhondt (votos, n_bancas):\r\n",
    "    votos_div = {}\r\n",
    "    lista = []\r\n",
    "    bancas = {}\r\n",
    "    for j in range(1, n_bancas+1):          #donde \"j\" es cada una de las bancas y \"range(1, n_bancas+1)\" son todas las bancas en juego dependiendo de la eleccion\r\n",
    "        for i in votos.keys():      #donde \"i\" es cada clave dentro del dict de votos \r\n",
    "            newvalue = votos[i]/j    #division de los votos de cada pp por la cant de bancas en juego\r\n",
    "            votos_div[i+str(j)] = newvalue    #nuevo dict con los resultados \r\n",
    "            \r\n",
    "    for i in range(1, n_bancas+1):\r\n",
    "        maximo = max(votos_div, key=votos_div.get)     #obtengo la lista con la maxima cantidad de votos\r\n",
    "        lista.append(maximo[:-1])\r\n",
    "        del votos_div[maximo]\r\n",
    "\r\n",
    "    for i in votos.keys():\r\n",
    "        bancas[i] = lista.count(i)                   #obtengo el conteo de la cantidad de escaños asignados a cada pp\r\n",
    "\r\n",
    "    return bancas\r\n",
    "\r\n",
    "Dhondt(votos, 12)    #en este caso se obtiene la formula D'Hondt para todos los partidos que compiten en esta eleccion"
   ],
   "outputs": [
    {
     "output_type": "execute_result",
     "data": {
      "text/plain": [
       "{'Juntos por el Cambio ': 8,\n",
       " 'Frente de Todos ': 4,\n",
       " 'Consenso Federal ': 0,\n",
       " 'Frente de Izquierda ': 0,\n",
       " 'Unite ': 0,\n",
       " 'Autodeterminación y Libertad ': 0,\n",
       " 'blancos ': 0,\n",
       " 'nulos ': 0}"
      ]
     },
     "metadata": {},
     "execution_count": 8
    }
   ],
   "metadata": {}
  },
  {
   "cell_type": "markdown",
   "source": [
    "Si se quisiera obtener la formula D'Hondt no para todos los partidos que compiten en la eleccion sino para saber la cantidad de escaños que le son asignados a X partido, la funcion deberia ser la siguiente:"
   ],
   "metadata": {}
  },
  {
   "cell_type": "code",
   "execution_count": 1,
   "source": [
    "votos = {}\r\n",
    "votos [\"Juntos por el Cambio \"] = 1060404\r\n",
    "votos [\"Frente de Todos \"] = 641054\r\n",
    "votos [\"Consenso Federal \"] = 114968\r\n",
    "votos [\"Frente de Izquierda \"] = 122560\r\n",
    "votos [\"Unite \"] = 36420\r\n",
    "votos [\"Autodeterminación y Libertad \"] = 24685\r\n",
    "votos [\"blancos \"] = 56174\r\n",
    "votos [\"nulos \"] = 16537 \r\n",
    "\r\n",
    "\r\n",
    "\r\n",
    "def Dhondt (partido, votos, n_bancas):\r\n",
    "    votos_div = {}\r\n",
    "    lista = []\r\n",
    "    bancas = {}\r\n",
    "    for j in range(1, n_bancas+1):          \r\n",
    "        for i in votos.keys():      \r\n",
    "            newvalue = votos[i]/j    \r\n",
    "            votos_div[i+str(j)] = newvalue    \r\n",
    "            \r\n",
    "    for i in range(1, n_bancas+1):\r\n",
    "        maximo = max(votos_div, key=votos_div.get)     \r\n",
    "        lista.append(maximo[:-1])\r\n",
    "        del votos_div[maximo]\r\n",
    "\r\n",
    "    for i in votos.keys():\r\n",
    "        bancas[i] = lista.count(i)                   \r\n",
    "\r\n",
    "    return bancas[partido]\r\n",
    "\r\n",
    "Dhondt('Juntos por el Cambio ', votos, 12)    #en este caso se obtiene la formula D'Hondt unicamente para el pp al que pedi y asi obtener la cantidad de escaños que le corresponden"
   ],
   "outputs": [
    {
     "output_type": "execute_result",
     "data": {
      "text/plain": [
       "8"
      ]
     },
     "metadata": {},
     "execution_count": 1
    }
   ],
   "metadata": {}
  }
 ],
 "metadata": {
  "orig_nbformat": 4,
  "language_info": {
   "name": "python",
   "version": "3.8.8",
   "mimetype": "text/x-python",
   "codemirror_mode": {
    "name": "ipython",
    "version": 3
   },
   "pygments_lexer": "ipython3",
   "nbconvert_exporter": "python",
   "file_extension": ".py"
  },
  "kernelspec": {
   "name": "python3",
   "display_name": "Python 3.8.8 64-bit ('base': conda)"
  },
  "interpreter": {
   "hash": "5d8cf5cda38d1e9e0067aab16a8a7260a1a6ade48c3b9588a1cd186fa0d7c928"
  }
 },
 "nbformat": 4,
 "nbformat_minor": 2
}